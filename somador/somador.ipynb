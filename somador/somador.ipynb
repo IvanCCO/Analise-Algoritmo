{
  "nbformat": 4,
  "nbformat_minor": 0,
  "metadata": {
    "colab": {
      "private_outputs": true,
      "provenance": []
    },
    "kernelspec": {
      "name": "python3",
      "display_name": "Python 3"
    },
    "language_info": {
      "name": "python"
    }
  },
  "cells": [
    {
      "cell_type": "code",
      "execution_count": null,
      "metadata": {
        "id": "gYpB3Wt1nw3p"
      },
      "outputs": [],
      "source": [
        "import dis\n",
        "import timeit\n",
        "\n",
        "def sum1():\n",
        "    s = 0\n",
        "    for i in range(1000000):\n",
        "        s += i\n",
        "    return s\n",
        "print('For Loop Sum:', timeit.timeit(sum1, number=2))\n",
        "dis.dis(sum1)\n",
        "def sum2():\n",
        "    return sum(range(1000000))\n",
        "dis.dis(sum2)\n",
        "print('Function Sum:', timeit.timeit(sum2, number=2))\n"
      ]
    },
    {
      "cell_type": "code",
      "source": [
        "import timeit\n",
        "\n",
        "def sum1():\n",
        "    s = 0\n",
        "    for i in range(1000000):\n",
        "        s += i\n",
        "    #print s    \n",
        "    return s\n",
        "\n",
        "def sum2():\n",
        "\n",
        "    return sum(range(1000000))\n",
        "\n",
        "def sum3():\n",
        "    s = range(1000000)\n",
        "    s = ((s[1]+s[-1])/2) * (len(s)-1)\n",
        "    #print(s)\n",
        "    return s\n",
        "\n",
        "print ('For Loop Sum:', timeit.timeit(sum1, number=10))\n",
        "print ('Function Sum:', timeit.timeit(sum2, number=10))\n",
        "print ('Fast Sum:', timeit.timeit(sum3, number=10))"
      ],
      "metadata": {
        "id": "Y_cgZ9AztCCY"
      },
      "execution_count": null,
      "outputs": []
    },
    {
      "cell_type": "code",
      "source": [
        "# Função para imprimir soma e carregar - MEIO SOMADOR\n",
        "def getResult(A, B):\n",
        "    \n",
        "    # Cálculo da soma\n",
        "    Sum = A ^ B\n",
        "    \n",
        "    # Calculado o valor do carry\n",
        "    Carry = A & B\n",
        "    \n",
        "    # imprimindo os calores\n",
        "    print(\"Sum \", Sum)\n",
        "    print(\"Carry\", Carry)\n",
        "\n",
        "\n",
        "# Código binário\n",
        "A = 1\n",
        "B = 1\n",
        "\n",
        "# passando duas entradas de halfadder como argumentos para obter a função de resultado\n",
        "getResult(A, B)"
      ],
      "metadata": {
        "id": "BT7JyQ-XQSnw"
      },
      "execution_count": null,
      "outputs": []
    },
    {
      "cell_type": "code",
      "source": [],
      "metadata": {
        "id": "E2F7fb9BQSix"
      },
      "execution_count": null,
      "outputs": []
    },
    {
      "cell_type": "code",
      "source": [],
      "metadata": {
        "id": "e4X_5z2JQSgf"
      },
      "execution_count": null,
      "outputs": []
    },
    {
      "cell_type": "code",
      "source": [],
      "metadata": {
        "id": "ED4h-fItQSfM"
      },
      "execution_count": null,
      "outputs": []
    }
  ]
}
