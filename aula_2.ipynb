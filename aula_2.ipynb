{
 "cells": [
  {
   "cell_type": "code",
   "execution_count": null,
   "id": "962e497c-1da4-4849-9cbb-740af3d09c43",
   "metadata": {},
   "outputs": [],
   "source": [
    "from memory_profile import memory_usage"
   ]
  },
  {
   "cell_type": "code",
   "execution_count": 9,
   "id": "9dc07acc-d544-4cc0-8470-af2235d9e12c",
   "metadata": {},
   "outputs": [],
   "source": [
    "import sys"
   ]
  },
  {
   "cell_type": "code",
   "execution_count": null,
   "id": "9b23d629-6d5e-4033-9d77-c8c9eaf9e208",
   "metadata": {},
   "outputs": [],
   "source": [
    "print(sys.getsizeof(\"pneu\"))"
   ]
  },
  {
   "cell_type": "code",
   "execution_count": 11,
   "id": "0c4fd065-2c7d-45e0-880a-9db648744f93",
   "metadata": {},
   "outputs": [
    {
     "name": "stdout",
     "output_type": "stream",
     "text": [
      "61\n"
     ]
    }
   ],
   "source": [
    "print(sys.getsizeof(\"pneç\"))"
   ]
  },
  {
   "cell_type": "markdown",
   "id": "412355ab-7994-46af-ac6a-69353bc38da9",
   "metadata": {
    "editable": true,
    "slideshow": {
     "slide_type": ""
    },
    "tags": []
   },
   "source": [
    "Por que que apenas o ç tem o tamanho de 61 sendo que pne+ç tem tamanho de 61, é como se pne tivesse tamanho 0, o que não é verdade. "
   ]
  },
  {
   "cell_type": "code",
   "execution_count": 15,
   "id": "183b86e3-a5fb-437c-9be4-263771be1808",
   "metadata": {},
   "outputs": [
    {
     "name": "stdout",
     "output_type": "stream",
     "text": [
      "61\n"
     ]
    }
   ],
   "source": [
    "print(sys.getsizeof(\"ç\"))"
   ]
  },
  {
   "cell_type": "code",
   "execution_count": null,
   "id": "3f866bba-9a77-4b87-9ac2-01a23f13be17",
   "metadata": {},
   "outputs": [],
   "source": [
    "def minha_funcao():\n",
    "    inicio = time.time()\n",
    "    list = []\n",
    "\n",
    "    for _ in range(100):\n",
    "        list.append('x' * 10000)\n",
    "        time.sleep(1)\n",
    "    fim = time.time()\n",
    "    tempo_processamento = fim - inicio\n",
    "\n",
    "    return tempo_processamento\n",
    "\n",
    "if __name__ == \"__main__\":\n",
    "    memory, resultado = "
   ]
  }
 ],
 "metadata": {
  "kernelspec": {
   "display_name": "Python 3 (ipykernel)",
   "language": "python",
   "name": "python3"
  },
  "language_info": {
   "codemirror_mode": {
    "name": "ipython",
    "version": 3
   },
   "file_extension": ".py",
   "mimetype": "text/x-python",
   "name": "python",
   "nbconvert_exporter": "python",
   "pygments_lexer": "ipython3",
   "version": "3.12.2"
  }
 },
 "nbformat": 4,
 "nbformat_minor": 5
}
