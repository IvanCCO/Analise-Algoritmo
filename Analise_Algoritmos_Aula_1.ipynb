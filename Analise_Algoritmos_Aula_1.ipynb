{
 "cells": [
  {
   "cell_type": "markdown",
   "metadata": {
    "colab_type": "text",
    "id": "view-in-github"
   },
   "source": [
    "<a href=\"https://colab.research.google.com/github/IvanCCO/Analise-Algoritmo/blob/main/Analise_Algoritmos_Aula_1.ipynb\" target=\"_parent\"><img src=\"https://colab.research.google.com/assets/colab-badge.svg\" alt=\"Open In Colab\"/></a>"
   ]
  },
  {
   "cell_type": "markdown",
   "metadata": {
    "id": "BUmd58uz_LGj"
   },
   "source": [
    "# Aula 1: Introdução análise de algoritmos\n",
    "\n",
    "A posição da memória é mudada com a nova atribuição da variável, então o garbage collector ele limpa tudo que não é mais usado...\n",
    "\n",
    "*Garbage collector que permitiu a computação ser o que é hoje. *\n",
    "\n",
    "---\n",
    "\n"
   ]
  },
  {
   "cell_type": "code",
   "execution_count": 35,
   "metadata": {
    "colab": {
     "base_uri": "https://localhost:8080/"
    },
    "id": "OBLfS_DY-DnT",
    "outputId": "c4b69e8d-31e1-4632-c33a-7c24822311db"
   },
   "outputs": [
    {
     "name": "stdout",
     "output_type": "stream",
     "text": [
      "140007018005536\n",
      "Preço da bolinha é R$100,00 Pepino\n",
      "140007018006880\n"
     ]
    }
   ],
   "source": [
    "string_1 = \"Preço da bolinha é\"\n",
    "string_2 = \"R$100,00\"\n",
    "msg = string_1 + \" \" + string_2\n",
    "\n",
    "print(id(msg))\n",
    "\n",
    "msg = msg + \" \" + \"Pepino\"\n",
    "\n",
    "print(msg)\n",
    "print(id(msg))"
   ]
  },
  {
   "cell_type": "markdown",
   "metadata": {
    "id": "pKfGR1ZwAc1U"
   },
   "source": [
    "Teste: Fazendo a mesma coisa com uma variável Inteira\n",
    "...ocorre o mesmo comportamento...\n",
    "\n",
    "Pensei que não ia acontecer, mas é um pouco diferente pois aqui fica claro que quanto maior o numero de sum maior o id do endereço da memória"
   ]
  },
  {
   "cell_type": "code",
   "execution_count": 31,
   "metadata": {
    "colab": {
     "base_uri": "https://localhost:8080/"
    },
    "id": "Xd08w9CfAn4Y",
    "outputId": "0ea67932-a16c-4f0f-85d1-90b7814660ad"
   },
   "outputs": [
    {
     "name": "stdout",
     "output_type": "stream",
     "text": [
      "140007722828080\n",
      "140007722827984\n"
     ]
    }
   ],
   "source": [
    "num_1 = 1\n",
    "num_2 = 2\n",
    "sum = num_1 + num_2\n",
    "\n",
    "print(id(sum))\n",
    "\n",
    "sum -=3\n",
    "\n",
    "print(id(sum))"
   ]
  },
  {
   "cell_type": "code",
   "execution_count": null,
   "metadata": {
    "id": "cYQ0pae8XaAS"
   },
   "outputs": [],
   "source": [
    "x = \"bolinha\""
   ]
  },
  {
   "cell_type": "code",
   "execution_count": null,
   "metadata": {
    "id": "tIhrZex_Xdhs"
   },
   "outputs": [],
   "source": [
    "print(id(x))"
   ]
  },
  {
   "cell_type": "code",
   "execution_count": null,
   "metadata": {
    "id": "Hjd-QmbtXeS0"
   },
   "outputs": [],
   "source": [
    "y = x"
   ]
  },
  {
   "cell_type": "code",
   "execution_count": null,
   "metadata": {
    "id": "dsDz6BFAXfkP"
   },
   "outputs": [],
   "source": [
    "print(id(y))"
   ]
  },
  {
   "cell_type": "code",
   "execution_count": null,
   "metadata": {
    "id": "fTUc9aPNXkcS"
   },
   "outputs": [],
   "source": [
    "del x"
   ]
  },
  {
   "cell_type": "code",
   "execution_count": null,
   "metadata": {
    "id": "_nyorEYGXlnA"
   },
   "outputs": [],
   "source": [
    "print(id(y))"
   ]
  }
 ],
 "metadata": {
  "colab": {
   "authorship_tag": "ABX9TyNOAsnu/ytaj4KVxc6MH2CW",
   "include_colab_link": true,
   "provenance": []
  },
  "kernelspec": {
   "display_name": "Python 3 (ipykernel)",
   "language": "python",
   "name": "python3"
  },
  "language_info": {
   "codemirror_mode": {
    "name": "ipython",
    "version": 3
   },
   "file_extension": ".py",
   "mimetype": "text/x-python",
   "name": "python",
   "nbconvert_exporter": "python",
   "pygments_lexer": "ipython3",
   "version": "3.12.2"
  }
 },
 "nbformat": 4,
 "nbformat_minor": 4
}
