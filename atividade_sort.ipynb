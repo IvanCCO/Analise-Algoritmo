{
 "cells": [
  {
   "cell_type": "markdown",
   "metadata": {
    "colab_type": "text",
    "id": "view-in-github"
   },
   "source": [
    "<a href=\"https://colab.research.google.com/github/IvanCCO/Analise-Algoritmo/blob/main/atividade_sort.ipynb\" target=\"_parent\"><img src=\"https://colab.research.google.com/assets/colab-badge.svg\" alt=\"Open In Colab\"/></a>"
   ]
  },
  {
   "cell_type": "markdown",
   "metadata": {
    "id": "4r7HNam2kiR0"
   },
   "source": [
    "# Executar os algoritmos bubble sort e quick sort\n",
    "\n",
    "Submeta o mesmo vetor para os dois algoritmos\n",
    "\n",
    "Teste vetores com os seguintes tamanhos:\n",
    "100\n",
    "1000\n",
    "10000\n",
    "100000\n",
    "1000000\n",
    "10000000\n",
    "\n",
    "Gerar um relarorio para apresentar:\n",
    "\n",
    "o valor estimado de complexidade para cada algoritmo usado, n² e n.log(n), calcule isto\n",
    "\n",
    "quantidade de memoria utilizada\n",
    "\n",
    "tempo gasto em segundos ou minutos\n",
    "\n",
    "quantidade de ciclos gastos\n",
    "\n",
    "Apresntar estes valores em um relatório\n",
    "Apresentar graficos comparativos para\n",
    "\n",
    "complexidade estimada\n",
    "memoria gasta\n",
    "tempo gasto\n",
    "ciclos gastos\n",
    "\n",
    "discussão e conclusão\n",
    "\n"
   ]
  },
  {
   "cell_type": "code",
   "execution_count": 112,
   "metadata": {
    "id": "mPwozvV5kv2-"
   },
   "outputs": [],
   "source": [
    "# Imports\n",
    "import matplotlib.pyplot as plt\n",
    "import time\n",
    "import numpy as np\n",
    "import matplotlib as mpl\n",
    "import random\n",
    "from memory_profiler import memory_usage\n",
    "import sys\n",
    "import timeit\n",
    "from functools import partial\n",
    "sys.setrecursionlimit(999_999_999)\n"
   ]
  },
  {
   "cell_type": "markdown",
   "metadata": {
    "id": "Guz2pOEAlJB2"
   },
   "source": [
    "# Bubble Sort\n",
    "\n",
    "Talvez a maneira mais intuitiva de se fazer uma ordenação, onde percorremos o array duas vezes, comparando o atual com o próximo e trocando caso o atual é maior que o próximo"
   ]
  },
  {
   "cell_type": "code",
   "execution_count": 19,
   "metadata": {
    "id": "Leke2haIk1R3"
   },
   "outputs": [],
   "source": [
    "def bubble_sort(arr):\n",
    "    n = len(arr)\n",
    "    # Percorre todos os elementos do array\n",
    "    for i in range(n):\n",
    "        # Últimos i elementos já estão no lugar certo, então não precisamos mais verificar eles\n",
    "        for j in range(0, n - i - 1):\n",
    "            # Percorre o array de 0 a n-i-1\n",
    "            # Troca se o elemento atual for maior que o próximo\n",
    "            if arr[j] > arr[j + 1]:\n",
    "                arr[j], arr[j + 1] = arr[j + 1], arr[j]\n",
    "    return arr"
   ]
  },
  {
   "cell_type": "markdown",
   "metadata": {
    "id": "-o7ROtedlZAV"
   },
   "source": [
    "# Quick Sort\n",
    "\n",
    "> Dividir para conquistar\n",
    "\n",
    "Se escolhe um pivot e separa o array de um lado números maiores que o pivot e do outro um número menores que o pivot"
   ]
  },
  {
   "cell_type": "code",
   "execution_count": 20,
   "metadata": {
    "id": "G8WrB0L1lF-8"
   },
   "outputs": [],
   "source": [
    "def partition(arr, low, high):\n",
    "    # Pega o último elemento como pivô\n",
    "    pivot = arr[high]\n",
    "\n",
    "    # Índice do menor elemento\n",
    "    i = low - 1\n",
    "\n",
    "    for j in range(low, high):\n",
    "        # Se o elemento atual for menor ou igual ao pivô\n",
    "        if arr[j] <= pivot:\n",
    "            # Incrementa o índice do menor elemento\n",
    "            i += 1\n",
    "            # Troca arr[i] com arr[j]\n",
    "            arr[i], arr[j] = arr[j], arr[i]\n",
    "\n",
    "    # Troca arr[i+1] com arr[high] (o pivô)\n",
    "    arr[i + 1], arr[high] = arr[high], arr[i + 1]\n",
    "    return i + 1"
   ]
  },
  {
   "cell_type": "code",
   "execution_count": 21,
   "metadata": {
    "id": "4zrOGtS2k9Wx"
   },
   "outputs": [],
   "source": [
    "def quick_sort(arr, low, high):\n",
    "    if low < high:\n",
    "        # Encontra o índice do pivô\n",
    "        pi = partition(arr, low, high)\n",
    "        # Divide e conquista\n",
    "        quick_sort(arr, low, pi - 1)\n",
    "        quick_sort(arr, pi + 1, high)"
   ]
  },
  {
   "cell_type": "markdown",
   "metadata": {},
   "source": [
    "# Criando arrays não ordenados"
   ]
  },
  {
   "cell_type": "code",
   "execution_count": 125,
   "metadata": {},
   "outputs": [
    {
     "name": "stdout",
     "output_type": "stream",
     "text": [
      "[[2, 4, 3, 0, 1], [8, 9, 5, 6, 1, 4, 0, 7, 2, 3], [0, 1, 2, 3, 6, 14, 4, 13, 5, 9, 11, 8, 10, 7, 12], [6, 11, 9, 1, 2, 19, 0, 17, 12, 3, 18, 16, 4, 10, 13, 7, 8, 14, 15, 5]]\n"
     ]
    }
   ],
   "source": [
    "arr = []\n",
    "nx = []\n",
    "\n",
    "for i in range(1,5):\n",
    "    i = i * 5\n",
    "    new_array = list(range(i))\n",
    "    random.shuffle(new_array)\n",
    "    arr.append(new_array)\n",
    "    nx.append(len(new_array))\n",
    "print(arr)"
   ]
  },
  {
   "cell_type": "markdown",
   "metadata": {},
   "source": [
    "# Ordenando array com quick sort"
   ]
  },
  {
   "cell_type": "code",
   "execution_count": 124,
   "metadata": {},
   "outputs": [
    {
     "name": "stdout",
     "output_type": "stream",
     "text": [
      "[3.6762752999784425, 3.6478025000251364, 3.7388210000062827, 3.5348536999954376]\n"
     ]
    }
   ],
   "source": [
    "tempo_y_qs = []\n",
    "memoria_y_qs = []\n",
    "\n",
    "def aux(arr):\n",
    "    memoria, resultado = memory_usage((quick_sort, (arr, 0, len(arr)-1), {}), max_usage=True, retval=True)\n",
    "\n",
    "for i in arr:\n",
    "    timer = timeit.Timer(partial(aux, i))\n",
    "    tempo_execucao = timer.timeit(number=1)\n",
    "    tempo_y_qs.append(tempo_execucao)\n",
    "\n",
    "print(tempo_y_qs)\n",
    "    "
   ]
  },
  {
   "cell_type": "markdown",
   "metadata": {},
   "source": [
    "# Ordenando array com bubble sort"
   ]
  },
  {
   "cell_type": "code",
   "execution_count": 126,
   "metadata": {},
   "outputs": [
    {
     "name": "stdout",
     "output_type": "stream",
     "text": [
      "[3.6702581999998074, 3.6060296000214294, 3.6371838999912143, 3.5887955999933183]\n"
     ]
    }
   ],
   "source": [
    "tempo_y_bs = []\n",
    "memoria_y_bs = []\n",
    "\n",
    "def aux2(arr):\n",
    "    memoria, resultado = memory_usage((bubble_sort, (arr,), {}), max_usage=True, retval=True)\n",
    "\n",
    "for i in arr:\n",
    "    timer = timeit.Timer(partial(aux2, i))\n",
    "    tempo_execucao = timer.timeit(number=1)\n",
    "    tempo_y_bs.append(tempo_execucao)\n",
    "\n",
    "print(tempo_y_bs)"
   ]
  },
  {
   "cell_type": "markdown",
   "metadata": {
    "jp-MarkdownHeadingCollapsed": true
   },
   "source": [
    "# Preparando o gráfico para plotar os resultados"
   ]
  },
  {
   "cell_type": "code",
   "execution_count": 99,
   "metadata": {},
   "outputs": [],
   "source": [
    "def plot_grafico_de_linha(x, y1, y2):\n",
    "    plt.plot(x, y1, label='Bubble Sort O(n²)')  # Linha para o primeiro conjunto de dados\n",
    "    plt.plot(x, y2, label='Quick Sort O(n log n)')  # Linha para o segundo conjunto de dados\n",
    "\n",
    "    plt.xlabel('Tamanho do input (n)')\n",
    "    plt.ylabel('Tempo gasto')\n",
    "    plt.title('Gráfico de Linha Comparativo')\n",
    "    plt.legend()\n",
    "    plt.show()"
   ]
  },
  {
   "cell_type": "code",
   "execution_count": null,
   "metadata": {},
   "outputs": [],
   "source": [
    "# Resultado"
   ]
  },
  {
   "cell_type": "code",
   "execution_count": 127,
   "metadata": {},
   "outputs": [
    {
     "data": {
      "image/png": "[encoded data removed]",
      "text/plain": [
       "<Figure size 640x480 with 1 Axes>"
      ]
     },
     "metadata": {},
     "output_type": "display_data"
    }
   ],
   "source": [
    "plot_grafico_de_linha(nx, tempo_y_bs, tempo_y_qs)"
   ]
  }
 ],
 "metadata": {
  "colab": {
   "authorship_tag": "ABX9TyNfjVv8dk7A1oSTKqMoec0t",
   "collapsed_sections": [
    "-o7ROtedlZAV"
   ],
   "include_colab_link": true,
   "provenance": []
  },
  "kernelspec": {
   "display_name": "Python 3 (ipykernel)",
   "language": "python",
   "name": "python3"
  },
  "language_info": {
   "codemirror_mode": {
    "name": "ipython",
    "version": 3
   },
   "file_extension": ".py",
   "mimetype": "text/x-python",
   "name": "python",
   "nbconvert_exporter": "python",
   "pygments_lexer": "ipython3",
   "version": "3.12.2"
  }
 },
 "nbformat": 4,
 "nbformat_minor": 4
}
