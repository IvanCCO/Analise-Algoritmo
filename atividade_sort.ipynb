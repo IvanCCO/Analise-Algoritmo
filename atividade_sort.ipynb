{
 "cells": [
  {
   "cell_type": "markdown",
   "metadata": {
    "colab_type": "text",
    "id": "view-in-github"
   },
   "source": [
    "<a href=\"https://colab.research.google.com/github/IvanCCO/Analise-Algoritmo/blob/main/atividade_sort.ipynb\" target=\"_parent\"><img src=\"https://colab.research.google.com/assets/colab-badge.svg\" alt=\"Open In Colab\"/></a>"
   ]
  },
  {
   "cell_type": "markdown",
   "metadata": {
    "id": "4r7HNam2kiR0"
   },
   "source": [
    "# Executar os algoritmos bubble sort e quick sort\n",
    "\n",
    "Submeta o mesmo vetor para os dois algoritmos\n",
    "\n",
    "Teste vetores com os seguintes tamanhos:\n",
    "100\n",
    "1000\n",
    "10000\n",
    "100000\n",
    "1000000\n",
    "10000000\n",
    "\n",
    "Gerar um relarorio para apresentar:\n",
    "\n",
    "o valor estimado de complexidade para cada algoritmo usado, n² e n.log(n), calcule isto\n",
    "\n",
    "quantidade de memoria utilizada\n",
    "\n",
    "tempo gasto em segundos ou minutos\n",
    "\n",
    "quantidade de ciclos gastos\n",
    "\n",
    "Apresntar estes valores em um relatório\n",
    "Apresentar graficos comparativos para\n",
    "\n",
    "complexidade estimada\n",
    "memoria gasta\n",
    "tempo gasto\n",
    "ciclos gastos\n",
    "\n",
    "discussão e conclusão\n",
    "\n"
   ]
  },
  {
   "cell_type": "code",
   "execution_count": 9,
   "metadata": {
    "id": "mPwozvV5kv2-"
   },
   "outputs": [],
   "source": [
    "# Imports\n",
    "import timeit\n",
    "import matplotlib.pyplot as plt\n",
    "import numpy as np\n",
    "import matplotlib as mpl\n",
    "import random\n",
    "from memory_profiler import memory_usage"
   ]
  },
  {
   "cell_type": "markdown",
   "metadata": {
    "id": "Guz2pOEAlJB2"
   },
   "source": [
    "# Bubble Sort\n",
    "\n",
    "Talvez a maneira mais intuitiva de se fazer uma ordenação, onde percorremos o array duas vezes, comparando o atual com o próximo e trocando caso o atual é maior que o próximo"
   ]
  },
  {
   "cell_type": "code",
   "execution_count": 4,
   "metadata": {
    "id": "Leke2haIk1R3"
   },
   "outputs": [],
   "source": [
    "def bubble_sort(arr):\n",
    "    n = len(arr)\n",
    "    # Percorre todos os elementos do array\n",
    "    for i in range(n):\n",
    "        # Últimos i elementos já estão no lugar certo, então não precisamos mais verificar eles\n",
    "        for j in range(0, n - i - 1):\n",
    "            # Percorre o array de 0 a n-i-1\n",
    "            # Troca se o elemento atual for maior que o próximo\n",
    "            if arr[j] > arr[j + 1]:\n",
    "                arr[j], arr[j + 1] = arr[j + 1], arr[j]\n",
    "    return arr"
   ]
  },
  {
   "cell_type": "markdown",
   "metadata": {
    "id": "-o7ROtedlZAV"
   },
   "source": [
    "# Quick Sort\n",
    "\n",
    "> Dividir para conquistar\n",
    "\n",
    "Se escolhe um pivot e separa o array de um lado números maiores que o pivot e do outro um número menores que o pivot"
   ]
  },
  {
   "cell_type": "code",
   "execution_count": 5,
   "metadata": {
    "id": "G8WrB0L1lF-8"
   },
   "outputs": [],
   "source": [
    "def partition(arr, low, high):\n",
    "    # Pega o último elemento como pivô\n",
    "    pivot = arr[high]\n",
    "\n",
    "    # Índice do menor elemento\n",
    "    i = low - 1\n",
    "\n",
    "    for j in range(low, high):\n",
    "        # Se o elemento atual for menor ou igual ao pivô\n",
    "        if arr[j] <= pivot:\n",
    "            # Incrementa o índice do menor elemento\n",
    "            i += 1\n",
    "            # Troca arr[i] com arr[j]\n",
    "            arr[i], arr[j] = arr[j], arr[i]\n",
    "\n",
    "    # Troca arr[i+1] com arr[high] (o pivô)\n",
    "    arr[i + 1], arr[high] = arr[high], arr[i + 1]\n",
    "    return i + 1"
   ]
  },
  {
   "cell_type": "code",
   "execution_count": 6,
   "metadata": {
    "id": "4zrOGtS2k9Wx"
   },
   "outputs": [],
   "source": [
    "def quick_sort(arr, low, high):\n",
    "    if low < high:\n",
    "        # Encontra o índice do pivô\n",
    "        pi = partition(arr, low, high)\n",
    "\n",
    "        # Divide e conquista\n",
    "        quick_sort(arr, low, pi - 1)\n",
    "        quick_sort(arr, pi + 1, high)"
   ]
  },
  {
   "cell_type": "markdown",
   "metadata": {},
   "source": [
    "# Criando arrays não ordenados"
   ]
  },
  {
   "cell_type": "code",
   "execution_count": 7,
   "metadata": {},
   "outputs": [],
   "source": [
    "n = [10, 100, 1000]\n",
    "arr = []\n",
    "\n",
    "for i in n:\n",
    "    new_array = list(range(i))\n",
    "    random.shuffle(new_array)\n",
    "    arr.append(new_array)"
   ]
  },
  {
   "cell_type": "markdown",
   "metadata": {},
   "source": [
    "# Ordenando array com quick sort"
   ]
  },
  {
   "cell_type": "code",
   "execution_count": 8,
   "metadata": {},
   "outputs": [
    {
     "name": "stdout",
     "output_type": "stream",
     "text": [
      "Array ordenado\n",
      "Tempo para ordenadar arr de length 10 -> 0.006225299992365763\n",
      "Array ordenado\n",
      "Tempo para ordenadar arr de length 100 -> 0.3977949000254739\n",
      "Array ordenado\n",
      "Tempo para ordenadar arr de length 1000 -> 40.89469570000074\n"
     ]
    }
   ],
   "source": [
    "for i in arr:\n",
    "    \n",
    "    tempo = timeit.timeit(lambda: quick_sort(i, 0, len(i) - 1))\n",
    "    print(\"Array ordenado\")\n",
    "    print(f\"Tempo para ordenadar arr de length {len(i)} -> {tempo}\")"
   ]
  },
  {
   "cell_type": "markdown",
   "metadata": {},
   "source": [
    "# Ordenando array com bubble sort"
   ]
  },
  {
   "cell_type": "code",
   "execution_count": null,
   "metadata": {},
   "outputs": [],
   "source": []
  }
 ],
 "metadata": {
  "colab": {
   "authorship_tag": "ABX9TyNfjVv8dk7A1oSTKqMoec0t",
   "collapsed_sections": [
    "-o7ROtedlZAV"
   ],
   "include_colab_link": true,
   "provenance": []
  },
  "kernelspec": {
   "display_name": "Python 3 (ipykernel)",
   "language": "python",
   "name": "python3"
  },
  "language_info": {
   "codemirror_mode": {
    "name": "ipython",
    "version": 3
   },
   "file_extension": ".py",
   "mimetype": "text/x-python",
   "name": "python",
   "nbconvert_exporter": "python",
   "pygments_lexer": "ipython3",
   "version": "3.12.2"
  }
 },
 "nbformat": 4,
 "nbformat_minor": 4
}
