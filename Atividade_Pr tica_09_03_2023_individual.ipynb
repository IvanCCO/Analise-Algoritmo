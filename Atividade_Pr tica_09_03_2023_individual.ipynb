{
  "nbformat": 4,
  "nbformat_minor": 0,
  "metadata": {
    "colab": {
      "private_outputs": true,
      "provenance": []
    },
    "kernelspec": {
      "name": "python3",
      "display_name": "Python 3"
    },
    "language_info": {
      "name": "python"
    }
  },
  "cells": [
    {
      "cell_type": "markdown",
      "source": [
        "## Prática 001 - Dado o algoritmo a seguir, execute e explique a saída na forma gráfica.\n",
        "\n",
        "\n"
      ],
      "metadata": {
        "id": "X7wQl1hwsUAi"
      }
    },
    {
      "cell_type": "code",
      "execution_count": null,
      "metadata": {
        "id": "ieL2ugGXrrWJ"
      },
      "outputs": [],
      "source": [
        "import matplotlib.pyplot as plt\n",
        "import numpy as np\n",
        "\n",
        "def sum_of_init(n):\n",
        "    state = []\n",
        "    acumul_acelerate = 0\n",
        "    for i in range(1,n+1):\n",
        "        acumul_acelerate += i\n",
        "        state.append({'i': i, 'acumulador': acumul_acelerate})\n",
        "    return state\n",
        "\n",
        "plt.title('Acumulador x Iterações')\n",
        "plt.xlabel('Acumulador')\n",
        "plt.ylabel('Iteração')\n",
        "\n",
        "for valor in [1000000]:\n",
        "    iteracoes = sum_of_init(valor)\n",
        "    plt.plot(\n",
        "        np.array([item['i'] for item in iteracoes]),\n",
        "        np.array([item['acumulador'] for item in iteracoes]),\n",
        "        label=str(valor)\n",
        "    )\n",
        "#plt.yscale('log')\n",
        "plt.legend()\n",
        "plt.show()"
      ]
    },
    {
      "cell_type": "markdown",
      "source": [
        "## Análise a saída visual e explique-a.\n",
        "\n",
        "**Resposta: **\n",
        "\n",
        "\n",
        "O algoritmo simplesmente le os valores do input e vai somando em um acumulador, e salva cada resultado único em array.\n",
        "\n",
        "A saída visual nos mostra quantas iterações foram necessárias para varrer o input e a soma do acumulador, o gráfico nos mostra a curva de variação de maneira nítida pois a cada iteração é salvo o resultado, colocando mais pontos no gráfico.\n",
        "\n",
        "\n",
        "\n"
      ],
      "metadata": {
        "id": "6Zdil_yKszcT"
      }
    },
    {
      "cell_type": "markdown",
      "source": [
        "+++++++++++++++++++++++++++++++++++++++++++++++++++++++++++++++++++++++++++++++++++++++++++++++++++++\n",
        "\n"
      ],
      "metadata": {
        "id": "Ut05vsoTt-ML"
      }
    },
    {
      "cell_type": "markdown",
      "source": [
        "##Prática 002 - Dado o algoritmo a seguir, execute e explique a saída na forma gráfica."
      ],
      "metadata": {
        "id": "VmPnAlCNtbzw"
      }
    },
    {
      "cell_type": "code",
      "source": [
        "from datetime import datetime\n",
        "import matplotlib.pyplot as plt\n",
        "import numpy as np\n",
        "\n",
        "def soma_tempo(n):\n",
        "    dt_inicio = datetime.now()\n",
        "    dt_fim = 0\n",
        "    acumulador = 0\n",
        "    for i in range(1, n+1):\n",
        "        acumulador += i\n",
        "    dt_fim = datetime.now()\n",
        "    return { 'valor': n, 'tempo': (dt_fim - dt_inicio).total_seconds() }\n",
        "\n",
        "plt.title('Tempo x Valor')\n",
        "plt.xlabel('Valor')\n",
        "plt.ylabel('Tempo')\n",
        "\n",
        "valores = []\n",
        "# 0 a 100mil pulando em 100\n",
        "for valor in range(0, 100_000, 100):\n",
        "    valores.append(soma_tempo(valor))\n",
        "\n",
        "plt.plot(\n",
        "    np.array([item['valor'] for item in valores]),\n",
        "    np.array([item['tempo'] for item in valores]),\n",
        ")"
      ],
      "metadata": {
        "id": "ADFtY1n7r5YP"
      },
      "execution_count": null,
      "outputs": []
    },
    {
      "cell_type": "markdown",
      "source": [
        "##Análise a saída visual e explique-a.\n",
        "*Resposta: *\n",
        "\n",
        "O Algoritmo em questão apenas faz a soma de um array que é passado no input, e calcula o tempo que foi gasto iterando nesse array e fazendo a soma.\n",
        "\n",
        "A representação visual em forma de gráfico do algoritmo, com y(tempo) e x(valor-n) nos mostra que o tempo cresceu de forma linear, ou seja ele cresceu de acordo com o tamanho do Input, fazendo uma análise assintótica de tempo do algoritmo utilizando BigO, podemos dizer que esse algoritmo em tempo é O(N), o que é representado no gráfico.\n",
        "No gráfico podemos notar que em alguns pontos tiveram um aumento expressivo de tempo de forma não linear, porém isso não se deve ao algoritmo em si, e mais a máquina que está o executando, ou algum processo em paralelo.\n",
        "\n",
        "> Análise assintótica: Analisar o algoritmo em si, e não levar em consideração variáveis externas ao algoritmo, como Linguagem de Programação, Especificação da máquina, processos correndo em segundo plano e etc..\n"
      ],
      "metadata": {
        "id": "-GRr4RSPtitX"
      }
    },
    {
      "cell_type": "markdown",
      "source": [
        "+++++++++++++++++++++++++++++++++++++++++++++++++++++++++++++++++++++++++++++++++++++++++++++++++++++++++++++"
      ],
      "metadata": {
        "id": "nYW0SswAtm4I"
      }
    },
    {
      "cell_type": "markdown",
      "source": [],
      "metadata": {
        "id": "TED4YCYHuGfT"
      }
    },
    {
      "cell_type": "markdown",
      "source": [
        "##Prática 003 - Dado o algoritmo a seguir, execute e explique a saída na forma gráfica."
      ],
      "metadata": {
        "id": "tC-kfAH2uKk9"
      }
    },
    {
      "cell_type": "code",
      "source": [
        "from datetime import datetime\n",
        "import matplotlib.pyplot as plt\n",
        "import numpy as np\n",
        "\n",
        "def soma_tempo(n):\n",
        "    dt_inicio = datetime.now()\n",
        "    dt_fim = 0\n",
        "    acumulador = 0\n",
        "    for i in range(1, n+1):\n",
        "        acumulador += i\n",
        "    dt_fim = datetime.now()\n",
        "    return { 'valor': n, 'tempo': (dt_fim - dt_inicio).total_seconds() }\n",
        "\n",
        "plt.title('Tempo x Valor')\n",
        "plt.xlabel('Valor')\n",
        "plt.ylabel('Tempo')\n",
        "\n",
        "valores = []\n",
        "for valor in range(0, 1000, 10):\n",
        "    valores.append(soma_tempo(valor))\n",
        "\n",
        "plt.plot(\n",
        "    np.array([item['valor'] for item in valores]),\n",
        "    np.array([item['tempo'] for item in valores]),\n",
        ")"
      ],
      "metadata": {
        "id": "rIlQ2oDKsCbe"
      },
      "execution_count": null,
      "outputs": []
    },
    {
      "cell_type": "markdown",
      "source": [
        "##Análise a saída visual e explique-a.\n",
        "*Resposta: *\n",
        "\n",
        "Esse algoritmo é exatamente igual ao da última questão, porém o que muda é apenas o Input(n), com um valor de input menor como é o caso, conseguimos análisar mais de \"perto\" a variação de tempo do algoritmo, essa variação acontece pois não é possível controlarmos variáveis externas ao algoritmo, no caso máquina, qualquer tipo de interferência na execução do algoritmo gera variação no tempo, em um caso de \"CNTP\" poderíamos usar o tempo como uma forma confiável de análisar o algortimo porém isso não é real, então temos outros mecanismos como a notação BigO, para nos apoiar nessas situações.\n",
        "\n",
        "> Utilizei como referência CNTP (Condições normais de temperatura e pressão) para ilustrar um ambiente de perfeito estado, imutável e irreal, apenas para exemplificar, não podendo ser levado ao pé da letra.  "
      ],
      "metadata": {
        "id": "wYufenRZuX__"
      }
    },
    {
      "cell_type": "markdown",
      "source": [],
      "metadata": {
        "id": "7-yDUyPrsSJz"
      }
    }
  ]
}